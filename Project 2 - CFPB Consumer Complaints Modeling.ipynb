{
 "cells": [
  {
   "cell_type": "code",
   "execution_count": 1,
   "id": "c07b0d7e-ff98-4f17-8e85-6ff1782f860c",
   "metadata": {
    "tags": []
   },
   "outputs": [],
   "source": [
    "# Import necessary libraries\n",
    "import pandas as pd\n",
    "from sklearn.model_selection import train_test_split\n",
    "from imblearn.under_sampling import RandomUnderSampler\n",
    "from xgboost import XGBClassifier\n",
    "from sklearn.metrics import classification_report, confusion_matrix\n",
    "from sklearn.preprocessing import LabelEncoder"
   ]
  },
  {
   "cell_type": "code",
   "execution_count": 2,
   "id": "061f0dbf-1a37-4bf5-84d3-86935df96c24",
   "metadata": {
    "tags": []
   },
   "outputs": [],
   "source": [
    "# Load the data\n",
    "df = pd.read_csv('shared/complaints_25Nov21.csv')"
   ]
  },
  {
   "cell_type": "code",
   "execution_count": 3,
   "id": "af748a15-c266-4356-927a-909c62977ba5",
   "metadata": {
    "tags": []
   },
   "outputs": [],
   "source": [
    "# Select predictor variables\n",
    "X = df[['Product', 'Sub-product', 'Issue', 'State', 'Tags', 'Submitted via', 'Company response to consumer', 'Timely response?']]\n",
    "\n",
    "# Convert categorical variables to numerical\n",
    "X = pd.get_dummies(X)\n",
    "\n",
    "# Set target variable\n",
    "le = LabelEncoder()\n",
    "y = le.fit_transform(df['Consumer disputed?'])\n",
    "\n",
    "# Split the data into training and test sets\n",
    "X_train, X_test, y_train, y_test = train_test_split(X, y, test_size=0.2, random_state=123)"
   ]
  },
  {
   "cell_type": "code",
   "execution_count": 4,
   "id": "518cb303-c9b7-4b63-b6c2-7e6ea0e7f644",
   "metadata": {
    "tags": []
   },
   "outputs": [],
   "source": [
    "# Check proportion of disputed complaints in training set and perform undersampling if necessary\n",
    "if (y_train == 1).sum() / len(y_train) < 0.3:\n",
    "    undersampler = RandomUnderSampler(random_state=123)\n",
    "    X_train, y_train = undersampler.fit_resample(X_train, y_train)"
   ]
  },
  {
   "cell_type": "code",
   "execution_count": 5,
   "id": "7d7febe4-89b9-4fce-9bc7-b743b36ed617",
   "metadata": {
    "tags": []
   },
   "outputs": [
    {
     "data": {
      "text/html": [
       "<style>#sk-container-id-1 {color: black;}#sk-container-id-1 pre{padding: 0;}#sk-container-id-1 div.sk-toggleable {background-color: white;}#sk-container-id-1 label.sk-toggleable__label {cursor: pointer;display: block;width: 100%;margin-bottom: 0;padding: 0.3em;box-sizing: border-box;text-align: center;}#sk-container-id-1 label.sk-toggleable__label-arrow:before {content: \"▸\";float: left;margin-right: 0.25em;color: #696969;}#sk-container-id-1 label.sk-toggleable__label-arrow:hover:before {color: black;}#sk-container-id-1 div.sk-estimator:hover label.sk-toggleable__label-arrow:before {color: black;}#sk-container-id-1 div.sk-toggleable__content {max-height: 0;max-width: 0;overflow: hidden;text-align: left;background-color: #f0f8ff;}#sk-container-id-1 div.sk-toggleable__content pre {margin: 0.2em;color: black;border-radius: 0.25em;background-color: #f0f8ff;}#sk-container-id-1 input.sk-toggleable__control:checked~div.sk-toggleable__content {max-height: 200px;max-width: 100%;overflow: auto;}#sk-container-id-1 input.sk-toggleable__control:checked~label.sk-toggleable__label-arrow:before {content: \"▾\";}#sk-container-id-1 div.sk-estimator input.sk-toggleable__control:checked~label.sk-toggleable__label {background-color: #d4ebff;}#sk-container-id-1 div.sk-label input.sk-toggleable__control:checked~label.sk-toggleable__label {background-color: #d4ebff;}#sk-container-id-1 input.sk-hidden--visually {border: 0;clip: rect(1px 1px 1px 1px);clip: rect(1px, 1px, 1px, 1px);height: 1px;margin: -1px;overflow: hidden;padding: 0;position: absolute;width: 1px;}#sk-container-id-1 div.sk-estimator {font-family: monospace;background-color: #f0f8ff;border: 1px dotted black;border-radius: 0.25em;box-sizing: border-box;margin-bottom: 0.5em;}#sk-container-id-1 div.sk-estimator:hover {background-color: #d4ebff;}#sk-container-id-1 div.sk-parallel-item::after {content: \"\";width: 100%;border-bottom: 1px solid gray;flex-grow: 1;}#sk-container-id-1 div.sk-label:hover label.sk-toggleable__label {background-color: #d4ebff;}#sk-container-id-1 div.sk-serial::before {content: \"\";position: absolute;border-left: 1px solid gray;box-sizing: border-box;top: 0;bottom: 0;left: 50%;z-index: 0;}#sk-container-id-1 div.sk-serial {display: flex;flex-direction: column;align-items: center;background-color: white;padding-right: 0.2em;padding-left: 0.2em;position: relative;}#sk-container-id-1 div.sk-item {position: relative;z-index: 1;}#sk-container-id-1 div.sk-parallel {display: flex;align-items: stretch;justify-content: center;background-color: white;position: relative;}#sk-container-id-1 div.sk-item::before, #sk-container-id-1 div.sk-parallel-item::before {content: \"\";position: absolute;border-left: 1px solid gray;box-sizing: border-box;top: 0;bottom: 0;left: 50%;z-index: -1;}#sk-container-id-1 div.sk-parallel-item {display: flex;flex-direction: column;z-index: 1;position: relative;background-color: white;}#sk-container-id-1 div.sk-parallel-item:first-child::after {align-self: flex-end;width: 50%;}#sk-container-id-1 div.sk-parallel-item:last-child::after {align-self: flex-start;width: 50%;}#sk-container-id-1 div.sk-parallel-item:only-child::after {width: 0;}#sk-container-id-1 div.sk-dashed-wrapped {border: 1px dashed gray;margin: 0 0.4em 0.5em 0.4em;box-sizing: border-box;padding-bottom: 0.4em;background-color: white;}#sk-container-id-1 div.sk-label label {font-family: monospace;font-weight: bold;display: inline-block;line-height: 1.2em;}#sk-container-id-1 div.sk-label-container {text-align: center;}#sk-container-id-1 div.sk-container {/* jupyter's `normalize.less` sets `[hidden] { display: none; }` but bootstrap.min.css set `[hidden] { display: none !important; }` so we also need the `!important` here to be able to override the default hidden behavior on the sphinx rendered scikit-learn.org. See: https://github.com/scikit-learn/scikit-learn/issues/21755 */display: inline-block !important;position: relative;}#sk-container-id-1 div.sk-text-repr-fallback {display: none;}</style><div id=\"sk-container-id-1\" class=\"sk-top-container\"><div class=\"sk-text-repr-fallback\"><pre>XGBClassifier(base_score=None, booster=None, callbacks=None,\n",
       "              colsample_bylevel=None, colsample_bynode=None,\n",
       "              colsample_bytree=None, early_stopping_rounds=None,\n",
       "              enable_categorical=False, eval_metric=None, feature_types=None,\n",
       "              gamma=None, gpu_id=None, grow_policy=None, importance_type=None,\n",
       "              interaction_constraints=None, learning_rate=None, max_bin=None,\n",
       "              max_cat_threshold=None, max_cat_to_onehot=None,\n",
       "              max_delta_step=None, max_depth=None, max_leaves=None,\n",
       "              min_child_weight=None, missing=nan, monotone_constraints=None,\n",
       "              n_estimators=100, n_jobs=None, num_parallel_tree=None,\n",
       "              predictor=None, random_state=123, ...)</pre><b>In a Jupyter environment, please rerun this cell to show the HTML representation or trust the notebook. <br />On GitHub, the HTML representation is unable to render, please try loading this page with nbviewer.org.</b></div><div class=\"sk-container\" hidden><div class=\"sk-item\"><div class=\"sk-estimator sk-toggleable\"><input class=\"sk-toggleable__control sk-hidden--visually\" id=\"sk-estimator-id-1\" type=\"checkbox\" checked><label for=\"sk-estimator-id-1\" class=\"sk-toggleable__label sk-toggleable__label-arrow\">XGBClassifier</label><div class=\"sk-toggleable__content\"><pre>XGBClassifier(base_score=None, booster=None, callbacks=None,\n",
       "              colsample_bylevel=None, colsample_bynode=None,\n",
       "              colsample_bytree=None, early_stopping_rounds=None,\n",
       "              enable_categorical=False, eval_metric=None, feature_types=None,\n",
       "              gamma=None, gpu_id=None, grow_policy=None, importance_type=None,\n",
       "              interaction_constraints=None, learning_rate=None, max_bin=None,\n",
       "              max_cat_threshold=None, max_cat_to_onehot=None,\n",
       "              max_delta_step=None, max_depth=None, max_leaves=None,\n",
       "              min_child_weight=None, missing=nan, monotone_constraints=None,\n",
       "              n_estimators=100, n_jobs=None, num_parallel_tree=None,\n",
       "              predictor=None, random_state=123, ...)</pre></div></div></div></div></div>"
      ],
      "text/plain": [
       "XGBClassifier(base_score=None, booster=None, callbacks=None,\n",
       "              colsample_bylevel=None, colsample_bynode=None,\n",
       "              colsample_bytree=None, early_stopping_rounds=None,\n",
       "              enable_categorical=False, eval_metric=None, feature_types=None,\n",
       "              gamma=None, gpu_id=None, grow_policy=None, importance_type=None,\n",
       "              interaction_constraints=None, learning_rate=None, max_bin=None,\n",
       "              max_cat_threshold=None, max_cat_to_onehot=None,\n",
       "              max_delta_step=None, max_depth=None, max_leaves=None,\n",
       "              min_child_weight=None, missing=nan, monotone_constraints=None,\n",
       "              n_estimators=100, n_jobs=None, num_parallel_tree=None,\n",
       "              predictor=None, random_state=123, ...)"
      ]
     },
     "execution_count": 5,
     "metadata": {},
     "output_type": "execute_result"
    }
   ],
   "source": [
    "# Train the model\n",
    "model_xgb = XGBClassifier(random_state=123)\n",
    "model_xgb.fit(X_train, y_train)"
   ]
  },
  {
   "cell_type": "code",
   "execution_count": 6,
   "id": "581b64bf-2515-4df3-b0bf-3c0cf2700369",
   "metadata": {
    "tags": []
   },
   "outputs": [
    {
     "name": "stdout",
     "output_type": "stream",
     "text": [
      "              precision    recall  f1-score   support\n",
      "\n",
      "           0       0.84      0.53      0.65     32504\n",
      "           1       0.27      0.63      0.38      8948\n",
      "\n",
      "    accuracy                           0.55     41452\n",
      "   macro avg       0.55      0.58      0.51     41452\n",
      "weighted avg       0.71      0.55      0.59     41452\n",
      "\n",
      "[[17157 15347]\n",
      " [ 3323  5625]]\n"
     ]
    }
   ],
   "source": [
    "# Evaluate the model\n",
    "y_pred = model_xgb.predict(X_test)\n",
    "print(classification_report(y_test, y_pred))\n",
    "print(confusion_matrix(y_test, y_pred))"
   ]
  },
  {
   "cell_type": "code",
   "execution_count": 7,
   "id": "e8777e3d-4e30-46f8-a619-560fcfbea366",
   "metadata": {
    "tags": []
   },
   "outputs": [
    {
     "name": "stdout",
     "output_type": "stream",
     "text": [
      "Proportion of consumers who raised a dispute in the test set: 0.21586413200810575\n"
     ]
    }
   ],
   "source": [
    "# Calculate the proportion of consumers who raised a dispute in the test set\n",
    "dispute_proportion_test = y_test.mean()\n",
    "print(f\"Proportion of consumers who raised a dispute in the test set: {dispute_proportion_test}\")\n"
   ]
  },
  {
   "cell_type": "code",
   "execution_count": 8,
   "id": "0d78207b-8811-4c26-ab5d-0e08263e5927",
   "metadata": {
    "tags": []
   },
   "outputs": [
    {
     "name": "stdout",
     "output_type": "stream",
     "text": [
      "Proportion of consumers who raised a dispute in the training set after undersampling: 0.5\n"
     ]
    }
   ],
   "source": [
    "# Calculate the proportion of consumers who raised a dispute in the training set after undersampling\n",
    "dispute_proportion_train = y_train.mean()\n",
    "print(f\"Proportion of consumers who raised a dispute in the training set after undersampling: {dispute_proportion_train}\")\n"
   ]
  },
  {
   "cell_type": "code",
   "execution_count": 9,
   "id": "05c111c4-a4b6-474e-aebb-a172acf01e06",
   "metadata": {
    "tags": []
   },
   "outputs": [
    {
     "name": "stdout",
     "output_type": "stream",
     "text": [
      "Recall for the category 'Consumer disputed?' = 'Yes' on the test set: 0.62863209655789\n"
     ]
    }
   ],
   "source": [
    "# Calculate the recall for the category 'Consumer disputed?' = 'Yes' on the test set\n",
    "from sklearn.metrics import recall_score\n",
    "recall = recall_score(y_test, y_pred)\n",
    "print(f\"Recall for the category 'Consumer disputed?' = 'Yes' on the test set: {recall}\")\n"
   ]
  },
  {
   "cell_type": "code",
   "execution_count": 10,
   "id": "de0698b5-b9fa-4448-8f29-3210b128b9f9",
   "metadata": {
    "tags": []
   },
   "outputs": [
    {
     "name": "stdout",
     "output_type": "stream",
     "text": [
      "Total cost to the banks of dealing with the complaints in the test set if there were no model: 8619200\n"
     ]
    }
   ],
   "source": [
    "# Calculate the total cost to the banks of dealing with the complaints in the test set if there were no model\n",
    "base_case_cost = y_test.sum() * 600 + (len(y_test) - y_test.sum()) * 100\n",
    "print(f\"Total cost to the banks of dealing with the complaints in the test set if there were no model: {base_case_cost}\")\n"
   ]
  },
  {
   "cell_type": "code",
   "execution_count": 11,
   "id": "d9bc5193-4ff5-4092-9170-c9328914482e",
   "metadata": {
    "tags": []
   },
   "outputs": [
    {
     "name": "stdout",
     "output_type": "stream",
     "text": [
      "Total cost to the banks of dealing with the complaints in the test set based on the model results: 6747980\n"
     ]
    }
   ],
   "source": [
    "# Calculate the total cost to the banks of dealing with the complaints in the test set based on the model results\n",
    "extra_diligence_cost = y_pred.sum() * 90\n",
    "dispute_cost = (y_pred & y_test).sum() * 500\n",
    "non_dispute_cost = (len(y_test) - y_pred.sum()) * 100\n",
    "total_cost = extra_diligence_cost + dispute_cost + non_dispute_cost\n",
    "print(f\"Total cost to the banks of dealing with the complaints in the test set based on the model results: {total_cost}\")\n"
   ]
  },
  {
   "cell_type": "code",
   "execution_count": 12,
   "id": "b51706f7-59b0-480e-8258-50c1a5c0d351",
   "metadata": {
    "tags": []
   },
   "outputs": [
    {
     "name": "stdout",
     "output_type": "stream",
     "text": [
      "Lowest total cost to the banks based on the observations in the test set: 4145190\n"
     ]
    }
   ],
   "source": [
    "# Change the value of the threshold and determine the lowest total cost to the banks based on the observations in the test set\n",
    "import numpy as np\n",
    "thresholds = np.linspace(0, 1, 100)\n",
    "costs = []\n",
    "for threshold in thresholds:\n",
    "    y_pred = (model_xgb.predict_proba(X_test)[:, 1] > threshold).astype(int)\n",
    "    extra_diligence_cost = y_pred.sum() * 90\n",
    "    dispute_cost = (y_pred & y_test).sum() * 500\n",
    "    non_dispute_cost = (len(y_test) - y_pred.sum()) * 100\n",
    "    total_cost = extra_diligence_cost + dispute_cost + non_dispute_cost\n",
    "    costs.append(total_cost)\n",
    "min_cost = min(costs)\n",
    "print(f\"Lowest total cost to the banks based on the observations in the test set: {min_cost}\")\n"
   ]
  },
  {
   "cell_type": "code",
   "execution_count": 13,
   "id": "01e3c225-d535-4142-a5f0-f462f7870626",
   "metadata": {},
   "outputs": [
    {
     "name": "stdout",
     "output_type": "stream",
     "text": [
      "Value of the threshold at which the lowest dollar cost is achieved: 0.9090909090909092\n"
     ]
    }
   ],
   "source": [
    "# Determine the value of the threshold at which the lowest dollar cost is achieved\n",
    "optimal_threshold = thresholds[costs.index(min_cost)]\n",
    "print(f\"Value of the threshold at which the lowest dollar cost is achieved: {optimal_threshold}\")\n"
   ]
  },
  {
   "cell_type": "code",
   "execution_count": null,
   "id": "034e7aec-4709-47c3-b859-911ce5a99bd6",
   "metadata": {
    "tags": []
   },
   "outputs": [],
   "source": [
    "\n"
   ]
  },
  {
   "cell_type": "code",
   "execution_count": null,
   "id": "b1ffe182-f921-454d-bf65-01509b503dde",
   "metadata": {},
   "outputs": [],
   "source": []
  }
 ],
 "metadata": {
  "kernelspec": {
   "display_name": "Python [conda env:mggy8413]",
   "language": "python",
   "name": "conda-env-mggy8413-py"
  },
  "language_info": {
   "codemirror_mode": {
    "name": "ipython",
    "version": 3
   },
   "file_extension": ".py",
   "mimetype": "text/x-python",
   "name": "python",
   "nbconvert_exporter": "python",
   "pygments_lexer": "ipython3",
   "version": "3.10.12"
  }
 },
 "nbformat": 4,
 "nbformat_minor": 5
}
